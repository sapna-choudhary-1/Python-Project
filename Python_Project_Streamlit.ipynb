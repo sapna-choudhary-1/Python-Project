{
  "nbformat": 4,
  "nbformat_minor": 0,
  "metadata": {
    "colab": {
      "name": "MiniProj_Streamlit.ipynb",
      "provenance": [],
      "collapsed_sections": [],
      "mount_file_id": "11aeTmwcxNQ-orH7Bl6OGy-_XzNzd_aLa",
      "authorship_tag": "ABX9TyMiPQmIRp+BUQtPmZPELadf",
      "include_colab_link": true
    },
    "kernelspec": {
      "name": "python3",
      "display_name": "Python 3"
    },
    "language_info": {
      "name": "python"
    }
  },
  "cells": [
    {
      "cell_type": "markdown",
      "metadata": {
        "id": "view-in-github",
        "colab_type": "text"
      },
      "source": [
        "<a href=\"https://colab.research.google.com/github/Sapna1624/Car_No.Plate_Detection_Recognition/blob/main/MiniProj_Streamlit.ipynb\" target=\"_parent\"><img src=\"https://colab.research.google.com/assets/colab-badge.svg\" alt=\"Open In Colab\"/></a>"
      ]
    },
    {
      "cell_type": "code",
      "execution_count": null,
      "metadata": {
        "id": "cRKIxG9cMZvC"
      },
      "outputs": [],
      "source": [
        "!pip install easyocr\n",
        "!pip install imutils\n",
        "\n",
        "!pip install streamlit --quiet\n",
        "!pip install pyngrok==4.1.1 --quiet\n",
        "from pyngrok import ngrok"
      ]
    },
    {
      "cell_type": "code",
      "source": [
        "!ngrok authtoken 1wzlxLGSgg95Dh4qAZe4VPrULqu_8KTTsFJMxMFMH5rwnHSG"
      ],
      "metadata": {
        "id": "WMA-PBtKMc9l"
      },
      "execution_count": null,
      "outputs": []
    },
    {
      "cell_type": "code",
      "source": [
        "%%writefile app.py\n",
        "import streamlit as st\n",
        "# import pytesseract\n",
        "from PIL import Image\n",
        "import cv2\n",
        "from matplotlib import pyplot as plt\n",
        "import numpy as np\n",
        "import imutils\n",
        "import easyocr\n",
        "from google.colab.patches import cv2_imshow\n",
        "\n",
        "\n",
        "st.title(\"Vehicle's Number Plate Detection\")\n",
        "st.header(\"OCR - Object Character Recognition\")\n",
        "\n",
        "img = st.sidebar.file_uploader(\"Choose a vehicle's image :\")\n",
        "if img is not None :\n",
        "  img = np.array(Image.open(img))\n",
        "  st.image(img, caption = \"Uploaded Image\")\n",
        "  if st.button(\"PREDICT\") :\n",
        "    # op = pytesseract.image_to_string(img.read)\n",
        "    \n",
        "    gray = cv2.cvtColor(img, cv2.COLOR_BGR2GRAY)\n",
        "\n",
        "    bfilter = cv2.bilateralFilter(gray, 11, 17, 17) \n",
        "    \n",
        "    edged = cv2.Canny(bfilter, 30, 200) \n",
        "    \n",
        "    keypoints = cv2.findContours(edged.copy(), cv2.RETR_TREE, cv2.CHAIN_APPROX_SIMPLE)\n",
        "    \n",
        "    contours = imutils.grab_contours(keypoints)\n",
        "    contours = sorted(contours, key=cv2.contourArea, reverse=True)[:10]\n",
        "    location = None\n",
        "    for contour in contours:\n",
        "        approx = cv2.approxPolyDP(contour, 10, True)\n",
        "        if len(approx) == 4:\n",
        "            location = approx\n",
        "            break\n",
        "    st.write(\"The location points of the number plate in the image are :- \")\n",
        "    st.text(location)\n",
        "    # Masking the image\n",
        "    mask = np.zeros(gray.shape, np.uint8)\n",
        "    new_image = cv2.drawContours(mask, [location], 0,255, -1)\n",
        "    st.image(new_image)\n",
        "    # plt.show()\n",
        "    new_image = cv2.bitwise_and(img, img, mask=mask)\n",
        "    st.write(\"\\n\\n >>>Displaying the masked image of the number plate  using matplotlib :- \")\n",
        "    st.image(new_image)\n",
        "    st.write(\"\\n\\n >>>Displaying the masked image of the number plate  using matplotlib after making the color format as RGB:- \")\n",
        "    st.image(cv2.cvtColor(new_image, cv2.COLOR_BGR2RGB))\n",
        "    #Cropping the image of the number plate from the masked image\n",
        "    (x,y) = np.where(mask==255)\n",
        "    (x1, y1) = (np.min(x), np.min(y))\n",
        "    (x2, y2) = (np.max(x), np.max(y))\n",
        "    cropped_image = gray[x1:x2+1, y1:y2+1]\n",
        "    st.write(\"cropped img\")\n",
        "    st.write(\"\\n\\n >>>Displaying the masked image of the number plate  using matplotlib after making the color format as RGB:- \")\n",
        "    st.image(cv2.cvtColor(cropped_image, cv2.COLOR_BGR2RGB))\n",
        "    \n",
        "    #Specifying the reading language to the EasyOCR as english\n",
        "    reader = easyocr.Reader(['en'])\n",
        "\n",
        "    #Reading the text from the cropped image\n",
        "    result = reader.readtext(cropped_image)\n",
        "\n",
        "    # st.write(\"\\n \\n The data obtained from the cropped image of the number plate of the vehicle, uploaded in the image : - \\n \")\n",
        "    # st.write(result)\n",
        "\n",
        "    #Taking out the result i.e. only the text on the number plate\n",
        "    text = result[0][-2]\n",
        "    st.write(\"\\n The text written on the number plate of the vehicle uploaded in the image : - \\n\")\n",
        "    st.write(text)\n",
        "\n",
        "    font = cv2.FONT_HERSHEY_SIMPLEX\n",
        "\n",
        "    #Writing the text i.e. the output on the original image\n",
        "    res = cv2.putText(img, text=text, org=(approx[0][0][0], approx[1][0][1]+60), fontFace=font, fontScale=1, color=(0,255,0), thickness=2, lineType=cv2.LINE_AA)\n",
        "\n",
        "    #Putting a rectangle around the number plate in the original image\n",
        "    res = cv2.rectangle(img, tuple(approx[0][0]), tuple(approx[2][0]), (0,255,0),3)\n",
        "\n",
        "    st.text(\"\\n\\n >>>Displaying the result of the number plate, in the original image,  using matplotlib after making the color format as RGB:- \")\n",
        "    st.image(res)\n"
      ],
      "metadata": {
        "id": "T9lepPfMMe_I"
      },
      "execution_count": null,
      "outputs": []
    },
    {
      "cell_type": "code",
      "source": [
        "\n",
        "!nohup streamlit run app.py &\n",
        "url = ngrok.connect(port = '8501')\n",
        "print(url)\n"
      ],
      "metadata": {
        "id": "9mzQaQehMjLn"
      },
      "execution_count": null,
      "outputs": []
    }
  ]
}
