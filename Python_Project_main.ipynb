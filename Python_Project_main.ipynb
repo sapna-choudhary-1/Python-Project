{
  "nbformat": 4,
  "nbformat_minor": 0,
  "metadata": {
    "colab": {
      "name": "MiniProj.ipynb",
      "provenance": [],
      "collapsed_sections": [],
      "mount_file_id": "1qnu7VAX9iZiHYixc8MRGDd4SfRdXkzND",
      "authorship_tag": "ABX9TyNDD1a5+9KKcnHYdc1Z80+G",
      "include_colab_link": true
    },
    "kernelspec": {
      "name": "python3",
      "display_name": "Python 3"
    },
    "language_info": {
      "name": "python"
    }
  },
  "cells": [
    {
      "cell_type": "markdown",
      "metadata": {
        "id": "view-in-github",
        "colab_type": "text"
      },
      "source": [
        "<a href=\"https://colab.research.google.com/github/Sapna1624/Car_No.Plate_Detection_Recognition/blob/main/MiniProj.ipynb\" target=\"_parent\"><img src=\"https://colab.research.google.com/assets/colab-badge.svg\" alt=\"Open In Colab\"/></a>"
      ]
    },
    {
      "cell_type": "code",
      "execution_count": null,
      "metadata": {
        "id": "e7Qhq4ZkRxsi"
      },
      "outputs": [],
      "source": [
        "!pip install easyocr\n",
        "!pip install imutils   \n",
        "!pip install \"opencv-python-headless<4.3\""
      ]
    },
    {
      "cell_type": "code",
      "source": [
        "import cv2\n",
        "from matplotlib import pyplot as plt\n",
        "import numpy as np\n",
        "import imutils\n",
        "import easyocr\n",
        "from google.colab.patches import cv2_imshow"
      ],
      "metadata": {
        "id": "rnuwOE5gR5mT"
      },
      "execution_count": null,
      "outputs": []
    },
    {
      "cell_type": "markdown",
      "source": [
        "### 1. Read in Image and Grayscale"
      ],
      "metadata": {
        "id": "Oswh9yVYR-U6"
      }
    },
    {
      "cell_type": "code",
      "source": [
        "img = cv2.imread('/content/drive/MyDrive/Colab Notebooks/image1.jpg')\n",
        "print(\"\\n The uploaded image is :- \\n\")\n",
        "cv2_imshow(img)\n",
        "print(\"\\n\\n Displaying the uploaded image using matplotlib :- \\n\")\n",
        "plt.imshow(img)\n",
        "plt.show()\n",
        "print(\"\\n\\n Displaying the uploaded image using matplotlib after making the color format as RGB:- \\n\")\n",
        "plt.imshow(cv2.cvtColor(img, cv2.COLOR_BGR2RGB))           #Because matplotlib takes images in BGR format by default.\n",
        "plt.show()\n"
      ],
      "metadata": {
        "id": "8cXdvxUcR7pd"
      },
      "execution_count": null,
      "outputs": []
    },
    {
      "cell_type": "code",
      "source": [
        "gray = cv2.cvtColor(img, cv2.COLOR_BGR2GRAY)\n",
        "print(\"\\n\\n Displaying the grayscale image of the uploaded image using matplotlib :- \\n\")\n",
        "plt.imshow(gray)\n",
        "plt.show()\n",
        "print(\"\\n\\n Displaying the grayscale image of the uploaded image using matplotlib after making the color format as RGB:- \\n\")\n",
        "plt.imshow(cv2.cvtColor(gray, cv2.COLOR_BGR2RGB))\n",
        "plt.show()\n"
      ],
      "metadata": {
        "id": "kOOBKDuUSL7k"
      },
      "execution_count": null,
      "outputs": []
    },
    {
      "cell_type": "markdown",
      "source": [
        "### 2. Apply filter and find edges for localization"
      ],
      "metadata": {
        "id": "9MDpOIvDSGuG"
      }
    },
    {
      "cell_type": "code",
      "source": [
        "# Performing - Noise reduction using bilateralFilter() \n",
        "bfilter = cv2.bilateralFilter(gray, 11, 17, 17) \n",
        "# Performing - Edge detection using Canny algorithm \n",
        "edged = cv2.Canny(bfilter, 30, 200) \n",
        "print(\"\\n\\n >>>Displaying the resulted image of the grayscale image using matplotlib after making the color format as RGB:- \")\n",
        "plt.imshow(cv2.cvtColor(edged, cv2.COLOR_BGR2RGB))"
      ],
      "metadata": {
        "id": "_2Bfg_eNSETa"
      },
      "execution_count": null,
      "outputs": []
    },
    {
      "cell_type": "markdown",
      "source": [
        "### 3. Find Contours and Apply Mask"
      ],
      "metadata": {
        "id": "kZ1w5XfLSRXH"
      }
    },
    {
      "cell_type": "code",
      "source": [
        "# Finding the contours\n",
        "keypoints = cv2.findContours(edged.copy(), cv2.RETR_TREE, cv2.CHAIN_APPROX_SIMPLE)\n",
        "contours = imutils.grab_contours(keypoints)\n",
        "contours = sorted(contours, key=cv2.contourArea, reverse=True)[:10]"
      ],
      "metadata": {
        "id": "4MC1hM5SSPYU"
      },
      "execution_count": null,
      "outputs": []
    },
    {
      "cell_type": "markdown",
      "source": [
        "### Edge Tracking by Hysteresis"
      ],
      "metadata": {
        "id": "A_zK3TCaSW-K"
      }
    },
    {
      "cell_type": "code",
      "source": [
        "# Finding the location of the contours\n",
        "location = None\n",
        "for contour in contours:\n",
        "    approx = cv2.approxPolyDP(contour, 10, True)\n",
        "    if len(approx) == 4:\n",
        "        location = approx\n",
        "        break"
      ],
      "metadata": {
        "id": "aE9-y9MwSUj7"
      },
      "execution_count": null,
      "outputs": []
    },
    {
      "cell_type": "code",
      "source": [
        "print(\"The location points of the number plate in the image are :- \")\n",
        "location"
      ],
      "metadata": {
        "id": "8ezOMN6qSben"
      },
      "execution_count": null,
      "outputs": []
    },
    {
      "cell_type": "code",
      "source": [
        "# Masking the image\n",
        "mask = np.zeros(gray.shape, np.uint8)\n",
        "new_image = cv2.drawContours(mask, [location], 0,255, -1)\n",
        "# plt.imshow(new_image)\n",
        "# plt.show()\n",
        "new_image = cv2.bitwise_and(img, img, mask=mask)\n",
        "print(\"\\n\\n >>>Displaying the masked image of the number plate  using matplotlib :- \")\n",
        "plt.imshow(new_image)\n",
        "plt.show()\n",
        "print(\"\\n\\n >>>Displaying the masked image of the number plate  using matplotlib after making the color format as RGB:- \")\n",
        "plt.imshow(cv2.cvtColor(new_image, cv2.COLOR_BGR2RGB))"
      ],
      "metadata": {
        "id": "5pEUc794SdCC"
      },
      "execution_count": null,
      "outputs": []
    },
    {
      "cell_type": "code",
      "source": [
        "#Cropping the image of the number plate from the masked image\n",
        "(x,y) = np.where(mask==255)\n",
        "(x1, y1) = (np.min(x), np.min(y))\n",
        "(x2, y2) = (np.max(x), np.max(y))\n",
        "cropped_image = gray[x1:x2+1, y1:y2+1]\n",
        "print(\"\\n\\n >>>Displaying the masked image of the number plate  using matplotlib after making the color format as RGB:- \")\n",
        "plt.imshow(cv2.cvtColor(cropped_image, cv2.COLOR_BGR2RGB))"
      ],
      "metadata": {
        "id": "Sf5WvrToSfD6"
      },
      "execution_count": null,
      "outputs": []
    },
    {
      "cell_type": "markdown",
      "source": [
        "### 4. Use Easy OCR To Read Text"
      ],
      "metadata": {
        "id": "2AJ2K0WtShPt"
      }
    },
    {
      "cell_type": "code",
      "source": [
        "#Specifying the reading language to the EasyOCR as english\n",
        "reader = easyocr.Reader(['en'])\n",
        "#Reading the text from the cropped image\n",
        "result = reader.readtext(cropped_image)\n",
        "print(\"\\n \\n The data obtained from the cropped image of the number plate of the vehicle, uploaded in the image : - \\n \", result)\n",
        "result"
      ],
      "metadata": {
        "id": "MOnwx6fUSjll"
      },
      "execution_count": null,
      "outputs": []
    },
    {
      "cell_type": "markdown",
      "source": [
        "### 5. Render Result"
      ],
      "metadata": {
        "id": "1MFr15A8Sn6q"
      }
    },
    {
      "cell_type": "code",
      "source": [
        "#Taking out the result i.e. only the text on the number plate\n",
        "text = result[0][-2]\n",
        "print(\"\\n The text written on the number plate of the vehicle uploaded in the image : - \\n\", text)\n",
        "\n",
        "font = cv2.FONT_HERSHEY_SIMPLEX\n",
        "\n",
        "#Writing the text i.e. the output on the original image\n",
        "res = cv2.putText(img, text=text, org=(approx[0][0][0], approx[1][0][1]+60), fontFace=font, fontScale=1, color=(0,255,0), thickness=2, lineType=cv2.LINE_AA)\n",
        "\n",
        "#Putting a rectangle around the number plate in the original image\n",
        "res = cv2.rectangle(img, tuple(approx[0][0]), tuple(approx[2][0]), (0,255,0),3)\n",
        "\n",
        "print(\"\\n\\n >>>Displaying the result of the number plate, in the original image,  using matplotlib after making the color format as RGB:- \")\n",
        "plt.imshow(cv2.cvtColor(res, cv2.COLOR_BGR2RGB))\n",
        "plt.show()"
      ],
      "metadata": {
        "id": "3vEcbfctSlm8"
      },
      "execution_count": null,
      "outputs": []
    }
  ]
}
